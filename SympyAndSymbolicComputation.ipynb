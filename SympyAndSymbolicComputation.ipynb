{
 "cells": [
  {
   "cell_type": "markdown",
   "metadata": {},
   "source": [
    "# Python'ın SymPy Kütüphanesi ve Sembolik Matematik"
   ]
  },
  {
   "cell_type": "markdown",
   "metadata": {},
   "source": [
    "SymPy, sembolik matematik işlemleri için geliştirilmiş bir Python kütüphanesidir. Tamamen Python diliyle geliştirilen bu kütüphane, yazımı anlaşılır ve tam kapsamlı bir Bilgisayar Cebiri Sistemi(CAS) sistemi olmayı amaçlar. BSD lisanslıdır, yani bir özgür yazılımdır. Yok denecek kadar az bağımlılığı vardır. Tek bağımlılığı, gerçek ve kompleks kayan noktalı sayılarla hassas hesaplama yapmayı sağlayan Mpmath kütüphanesidir. Düşük bağımlılık gereksinimleri sayesinde SymPy'ı, projelerinizde daha az çekinerek kullanabilirsiniz."
   ]
  },
  {
   "cell_type": "markdown",
   "metadata": {},
   "source": [
    "### Sembolik Matematik ve Sembolik Hesaplama Nedir?"
   ]
  },
  {
   "cell_type": "markdown",
   "metadata": {},
   "source": [
    "Sembolik matematik; sembolik hesaplama ve cebirsel işlemlerden oluşan bilgisayar cebirindeki, matematiksel ifadeleri ve nesneleri yönlendirmek için kullanılan algoritmalara ve yazılımların geliştirilmesine atıfta bulunan bilimsel bir alandır. Matematiksel nesnelerin, sembolik olarak hesaplanması ile ilgilenir. Yani matematiksel nesnelerin ve çeşitli cebirsel işlemlerin nümerik yakınsama yöntemleriyle değil, tam olarak hesaplanmasını sağlar. Bilimsel hesaplamanın bir alt alanı olarak da görülür ancak temelde önemli farkları bulunur. Çünkü bilimsel hesaplama genellikle yaklaşık kayan nokta sayıları ile sayısal hesaplamaya dayanır; sembolik hesaplamada ise değeri olmayan değişkenler içeren ifadelerle tam hesaplama yapılır."
   ]
  },
  {
   "cell_type": "markdown",
   "metadata": {},
   "source": [
    "Bunu güzel bir örnekle açıklayalım, basit bir türev alma işlemi gerçekleştirelim. Önce türevin tanımına bakalım. Geçmişi Newton'a kadar uzanan fark denklemlerinden faydalanan sonlu farklar yöntemi ile diferansiyel denklemlerin çözümünü gerçekleştirelim. Yani türev işlemini sonlu farklar yöntemi ile yapalım."
   ]
  },
  {
   "cell_type": "markdown",
   "metadata": {},
   "source": [
    "## <center> $\\frac{d}{d a} f{\\left(a \\right)} = \\lim_{h \\to 0} \\frac{f{\\left(a + h \\right)} - f{\\left(a \\right)}}{h}$<center>"
   ]
  },
  {
   "cell_type": "markdown",
   "metadata": {},
   "source": [
    "Önce ifadeyi anlayalım. Yukarıdaki denklemin bize anlattığı, kesirli ifadenin üstünde yer alan fark denklemini \"h\"ye bölersek, \"h\" 0'a yaklaşırken elde edilen sonucun f(a)'nın türevine eşit olacağı. Hemen hepinizin Calculus I dersinden hatırlayacağı üzere, bu işlemi gerçekleştirirken öncelikle belirtilen değerleri \"f\" fonksiyonuna yazdıktan sonra sadeleştirme yaparak \"h\"yi paydadan götürüp sıfıra bölme hatasını ortadan kaldırıyoruz. Daha sonra gönül rahatlığıyla \"h\"yi - hala ortada bir h olduğu durumda - sıfıra eşitleyip fonksiyonun türevine ulaşıyoruz."
   ]
  },
  {
   "cell_type": "markdown",
   "metadata": {},
   "source": [
    "Sembolik matematiğin yardımı olmadan, klasik yöntemlerle bu işlemi bir bilgisayarda ya da hesap makinesinde yapmanız mümkün değil. Çünkü \"h\"yi sonsuz küçük ya da sonsuz gibi değerlerle tanımlayamıyorsunuz. Sembolik hesaplama olmadan yapılan yöntemler de var elbette. \"h\"ye 0 verilemediğinden sıfıra yakın, çok küçük bir değer verilerek işlem yapılabiliyor. Tabii bu durumda belli bir hata payını kabul etmiş oluyorsunuz."
   ]
  },
  {
   "cell_type": "markdown",
   "metadata": {},
   "source": [
    "Tüm bu anlattıklarımdan sonra, türev işlemini yukarıdaki tanımıyla yapalım. Bunu yaparken de kendi yazacağımız bir fonksiyonu ve SciPy kütüphanesinden hazır bir metodu kullanarak sayısal yaklaşımla çözelim. Ayrıca SymPy yardımıyla sembolik matematiği kullanalım ve kıyaslayalım."
   ]
  },
  {
   "cell_type": "code",
   "execution_count": 1,
   "metadata": {},
   "outputs": [],
   "source": [
    "#Kullanacağımız kütüphaneleri ekleyelim.\n",
    "import mpmath as m\n",
    "from sympy import * #Bu ekleme biçimi sayesinde, SymPy metodlarını doğrudan çağırabileceğiz.\n",
    "from scipy.misc import derivative #SciPy'dan türev alma metodu.\n",
    "from IPython.display import display #Aynı hücrede birden fazla yazdırma işlemi yapabilmek için.\n",
    "\n",
    "exp = float(m.e()) #euler/exponential"
   ]
  },
  {
   "cell_type": "code",
   "execution_count": 2,
   "metadata": {},
   "outputs": [],
   "source": [
    "#Türevini alacağımız denklem.\n",
    "def function(x):\n",
    "    return 2*exp**(2*x) + 7 #2e^2x + 7"
   ]
  },
  {
   "cell_type": "markdown",
   "metadata": {},
   "source": [
    "Üç tip fark denklemi var: İleri, geri ve merkezi. Yukarıda gösterdiğimiz denklem, ileri farklar denklemiydi. SciPy'dan kullanacağımız \"derivative\" metodunda varsayılan denklem, merkezi farklar denklemi olduğu için aşağıdaki fonksiyonda da aynı tercihte bulundum. Konumuz bu olmadığı için arasındaki farklardan bahsetmeyeceğim, sadece hesaplama yaparken adım büyüklüğüne göre hata payının değiştiğini bilmeniz yeterli."
   ]
  },
  {
   "cell_type": "code",
   "execution_count": 3,
   "metadata": {},
   "outputs": [],
   "source": [
    "#Fark denklemiyle türev işlemi yapmak için yazdığımız fonksiyon.\n",
    "def my_derivative(f,a,method='central',h=0.01):\n",
    "    '''Compute the difference formula for f'(a) with step size h.\n",
    "\n",
    "    Parameters\n",
    "    ----------\n",
    "    f : function\n",
    "        Vectorized function of one variable\n",
    "    a : number\n",
    "        Compute derivative at x = a\n",
    "    method : string\n",
    "        Difference formula: 'forward', 'backward' or 'central'\n",
    "    h : number\n",
    "        Step size in difference formula\n",
    "\n",
    "    Returns\n",
    "    -------\n",
    "    float\n",
    "        Difference formula:\n",
    "            central: f(a+h) - f(a-h))/2h\n",
    "            forward: f(a+h) - f(a))/h\n",
    "            backward: f(a) - f(a-h))/h            \n",
    "    '''\n",
    "    if method == 'central':\n",
    "        return (f(a + h) - f(a - h))/(2*h)\n",
    "    elif method == 'forward':\n",
    "        return (f(a + h) - f(a))/h\n",
    "    elif method == 'backward':\n",
    "        return (f(a) - f(a - h))/h\n",
    "    else:\n",
    "        raise ValueError(\"Method must be 'central', 'forward' or 'backward'.\")"
   ]
  },
  {
   "cell_type": "markdown",
   "metadata": {},
   "source": [
    "Kodumuzu çalıştıralım ve sonuçlara bakalım."
   ]
  },
  {
   "cell_type": "code",
   "execution_count": 4,
   "metadata": {},
   "outputs": [
    {
     "data": {
      "text/plain": [
       "88105.86318177229"
      ]
     },
     "metadata": {},
     "output_type": "display_data"
    },
    {
     "data": {
      "text/plain": [
       "88105.86318177229"
      ]
     },
     "metadata": {},
     "output_type": "display_data"
    }
   ],
   "source": [
    "my_deriv = my_derivative(function,5, h=0.00001)\n",
    "scipy_deriv = derivative(function,5, 0.00001)\n",
    "\n",
    "display(my_deriv)\n",
    "display(scipy_deriv)"
   ]
  },
  {
   "cell_type": "markdown",
   "metadata": {},
   "source": [
    "Gördüğünüz üzere sonuçlar aynı. Çünkü SciPy'daki metodun yaptığı da bizimkinden farklı değil. Burada adım büyüklüğünü değiştirmeniz sadece hesaplama hassasiyetini değiştirecektir. Ancak ne yaparsanız yapın, \"h\"ye sayısal bir değer verdiğiniz sürece kayıt altına aldığınız değişkenler kayıplı olacaktır. İşte bu nedenle sembolik matematiğe başvuruyoruz ve değişkenleri matematiksel nesneler olarak kaydediyoruz.\n",
    "\n",
    "Şimdi SymPy ile önce doğrudan \"diff\" metodunu kullanarak, sonrasında da yine aynı anlama gelecek olan sonlu fark denkleminin limitini alarak işlem yapalım."
   ]
  },
  {
   "cell_type": "code",
   "execution_count": 5,
   "metadata": {},
   "outputs": [
    {
     "data": {
      "text/latex": [
       "$\\displaystyle 4 e^{2 x} \\log{\\left(e \\right)}$"
      ],
      "text/plain": [
       "4*e**(2*x)*log(e)"
      ]
     },
     "metadata": {},
     "output_type": "display_data"
    },
    {
     "data": {
      "text/latex": [
       "$\\displaystyle 4.0 \\cdot 2.71828182845905^{2 x}$"
      ],
      "text/plain": [
       "4.0*2.71828182845905**(2*x)"
      ]
     },
     "metadata": {},
     "output_type": "display_data"
    }
   ],
   "source": [
    "eq = sympify(\"2*e**(2*x)+7\")#Bir Python fonksiyonu tanımlamak yerine, bu metodu kullanarak string tipindeki ifadeyi SymPy ifadesine çevirebilirsiniz.\n",
    "eq_diff = diff(eq,\"x\")#eq denklemi ifade ederken x ise hangi değişkene göre türev alınacağını gösteriyor.\n",
    "display(eq_diff)\n",
    "\n",
    "#Böyle yapmak istemezseniz en başta tanımladığımız fonksiyonu da metot içine verebilirsiniz.\n",
    "x = symbols('x')\n",
    "eq_diff2 = diff(function(x),x)\n",
    "display(eq_diff2)"
   ]
  },
  {
   "cell_type": "code",
   "execution_count": 6,
   "metadata": {},
   "outputs": [
    {
     "data": {
      "text/latex": [
       "$\\displaystyle 88105.8631792268$"
      ],
      "text/plain": [
       "88105.8631792268"
      ]
     },
     "execution_count": 6,
     "metadata": {},
     "output_type": "execute_result"
    }
   ],
   "source": [
    "eq_diff.subs([(\"x\",5),(\"e\",exp)]) #subs metodu sembolik değişkenlere sayısal değerler atamanızı sağlıyor."
   ]
  },
  {
   "cell_type": "code",
   "execution_count": 7,
   "metadata": {},
   "outputs": [
    {
     "data": {
      "text/latex": [
       "$\\displaystyle 88105.8631792268$"
      ],
      "text/plain": [
       "88105.8631792268"
      ]
     },
     "execution_count": 7,
     "metadata": {},
     "output_type": "execute_result"
    }
   ],
   "source": [
    "eq_diff2.subs(\"x\",5)"
   ]
  },
  {
   "cell_type": "markdown",
   "metadata": {},
   "source": [
    "İşlemleri matematiksel nesneler olarak kaydetmemizin en önemli yanlarından birini göreceğimiz \"evalf\" metoduna bakalım. Bu metot sayısal ifadeyi kaç basamak hesaplayacağımızı belirlememize izin veriyor. Bu sayede işlemleri matematiksel nesneler olarak kaydettiğimizde, sayısallaştırırken ne kadar kesme ve yuvarlama hatası olacağı, ne kadar hesaplama yapılacağı bizim elimizde oluyor. Varsayılan değeri 15. \n",
    "\n",
    "Belirtmekte fayda var. Buraya kadar anlattığımız sonlu fark denklemlerinin sayısal yakınsama yoluyla diferansiyel denklemlerde kullanılması kesme hatasından kaynaklanan bir hesaplama hatası değil, sayısal yakınsama metodunun yapısından kaynaklanan bir yuvarlama hatası. Kesme hatalarına yazının devamında örnek vereceğim."
   ]
  },
  {
   "cell_type": "code",
   "execution_count": 8,
   "metadata": {},
   "outputs": [
    {
     "data": {
      "text/latex": [
       "$\\displaystyle 88105.8631792268$"
      ],
      "text/plain": [
       "88105.8631792268"
      ]
     },
     "execution_count": 8,
     "metadata": {},
     "output_type": "execute_result"
    }
   ],
   "source": [
    "eq_diff.subs([(\"x\",5),(\"e\",exp)]).evalf()"
   ]
  },
  {
   "cell_type": "code",
   "execution_count": 9,
   "metadata": {},
   "outputs": [
    {
     "data": {
      "text/latex": [
       "$\\displaystyle 88105.8631792268$"
      ],
      "text/plain": [
       "88105.8631792268"
      ]
     },
     "metadata": {},
     "output_type": "display_data"
    },
    {
     "data": {
      "text/latex": [
       "$\\displaystyle 88105.86317922681$"
      ],
      "text/plain": [
       "88105.86317922681"
      ]
     },
     "metadata": {},
     "output_type": "display_data"
    },
    {
     "data": {
      "text/latex": [
       "$\\displaystyle 88105.863179226813$"
      ],
      "text/plain": [
       "88105.863179226813"
      ]
     },
     "metadata": {},
     "output_type": "display_data"
    },
    {
     "data": {
      "text/latex": [
       "$\\displaystyle 88105.8631792268134$"
      ],
      "text/plain": [
       "88105.8631792268134"
      ]
     },
     "metadata": {},
     "output_type": "display_data"
    },
    {
     "data": {
      "text/latex": [
       "$\\displaystyle 88105.86317922681337$"
      ],
      "text/plain": [
       "88105.86317922681337"
      ]
     },
     "metadata": {},
     "output_type": "display_data"
    }
   ],
   "source": [
    "for i in range(15,20): #Varsayılan değerden başlayarak değişimi görmeniz için.\n",
    "    display(eq_diff.subs([(\"x\",5),(\"e\",exp)]).evalf(i))"
   ]
  },
  {
   "cell_type": "markdown",
   "metadata": {},
   "source": [
    "Şimdi sonlu fark denkleminin \"h\" sıfıra yaklaşırkenki limitini alarak işlemi gerçekleştirelim ve aynı sonuçları elde ettiğimizi görelim."
   ]
  },
  {
   "cell_type": "code",
   "execution_count": 10,
   "metadata": {},
   "outputs": [
    {
     "data": {
      "text/latex": [
       "$\\displaystyle \\frac{- 2 e^{2 a - 2 h} + 2 e^{2 a + 2 h}}{2 h}$"
      ],
      "text/plain": [
       "(-2*e**(2*a - 2*h) + 2*e**(2*a + 2*h))/(2*h)"
      ]
     },
     "execution_count": 10,
     "metadata": {},
     "output_type": "execute_result"
    }
   ],
   "source": [
    "a,e,h = symbols('a e h')\n",
    "f = lambdify(\"a\",sympify(\"2*e**(2*a)+7\")) #lambdify metodu, ifadeyi içine değer alabilir bir fonksiyon haline getiriyor.\n",
    "expr = (f(a+h)-f(a-h))/(2*h)\n",
    "expr"
   ]
  },
  {
   "cell_type": "code",
   "execution_count": 11,
   "metadata": {},
   "outputs": [
    {
     "data": {
      "text/latex": [
       "$\\displaystyle 4 e^{2 a} \\log{\\left(e \\right)}$"
      ],
      "text/plain": [
       "4*e**(2*a)*log(e)"
      ]
     },
     "execution_count": 11,
     "metadata": {},
     "output_type": "execute_result"
    }
   ],
   "source": [
    "limit(expr,h,\"0\")"
   ]
  },
  {
   "cell_type": "code",
   "execution_count": 12,
   "metadata": {},
   "outputs": [
    {
     "data": {
      "text/latex": [
       "$\\displaystyle 88105.8631792268$"
      ],
      "text/plain": [
       "88105.8631792268"
      ]
     },
     "execution_count": 12,
     "metadata": {},
     "output_type": "execute_result"
    }
   ],
   "source": [
    "limit(expr,h,\"0\").subs([(\"a\",5),(\"e\",exp)])"
   ]
  },
  {
   "cell_type": "code",
   "execution_count": 13,
   "metadata": {},
   "outputs": [
    {
     "data": {
      "text/latex": [
       "$\\displaystyle 88105.8631792268$"
      ],
      "text/plain": [
       "88105.8631792268"
      ]
     },
     "metadata": {},
     "output_type": "display_data"
    },
    {
     "data": {
      "text/latex": [
       "$\\displaystyle 88105.86317922681$"
      ],
      "text/plain": [
       "88105.86317922681"
      ]
     },
     "metadata": {},
     "output_type": "display_data"
    },
    {
     "data": {
      "text/latex": [
       "$\\displaystyle 88105.863179226813$"
      ],
      "text/plain": [
       "88105.863179226813"
      ]
     },
     "metadata": {},
     "output_type": "display_data"
    },
    {
     "data": {
      "text/latex": [
       "$\\displaystyle 88105.8631792268134$"
      ],
      "text/plain": [
       "88105.8631792268134"
      ]
     },
     "metadata": {},
     "output_type": "display_data"
    },
    {
     "data": {
      "text/latex": [
       "$\\displaystyle 88105.86317922681337$"
      ],
      "text/plain": [
       "88105.86317922681337"
      ]
     },
     "metadata": {},
     "output_type": "display_data"
    }
   ],
   "source": [
    "for i in range(15,20):\n",
    "    display(limit(expr,h,\"0\").subs([(\"a\",5),(\"e\",exp)]).evalf(i))"
   ]
  },
  {
   "cell_type": "markdown",
   "metadata": {},
   "source": [
    "## Kesme Hatası"
   ]
  },
  {
   "cell_type": "markdown",
   "metadata": {},
   "source": [
    "Tam değerleri, sonlu sayıda rakam kullanılarak yazılamayan irrasyonel ve aşkın sayılardan bahsedelim. İrrasyonel sayılar, payı ve paydası birer tam sayı olan bir kesir olarak ifade edilemeyen sayılardır. Aşkın sayılar ise katsayıları tam veya rasyonel olan bir polinomun kökü olmayan gerçek sayılara denir. Tüm aşkın sayılar irrasyoneldir ancak tüm irrasyonel sayılar aşkın değildir; örneğin $\\sqrt{2}$, $x^{2} - 2 = 0$ polinom denkleminin köküdür."
   ]
  },
  {
   "cell_type": "markdown",
   "metadata": {},
   "source": [
    "$\\pi$, $e$ ve $\\sqrt{2}$ sayılarından bahsedelim ve hesaplayalım. $\\pi$ ve $e$ hem irrasyonel hem de aşkın sayılardır. $\\sqrt{2}$ sayısı ise aşkın olmayan ama irrasyonel olan bir sayıdır. Bu üç sayının bizi ilgilendiren en önemli ortak noktası, sonlu sayıda rakam ile ifade edilemiyor olmaları. Yani bir noktada hatayı kabul ederek kesme yapmak zorundasınız. SymPy ile sembolik hesaplama yaparsanız, kayıplı sayıyı değil hesaplamanın kendisini bir matematiksel nesne olarak kaydedeceğiniz için bu özel sayıları kullanacağınız her noktada, yapacağınız kesme işlemini o işe göre ayarlama şansına sahip oluyorsunuz."
   ]
  },
  {
   "cell_type": "markdown",
   "metadata": {},
   "source": [
    "İlk olarak en ünlü matematiksel sabit diyebileceğimiz $e$ sayını hesaplayalım. $\\sum_{n=0}^{\\infty} \\frac{1}{n!}$ formülüyle de hesaplanabilen sayıyı, daha klasik yöntem olan limit kullanarak bulalım."
   ]
  },
  {
   "cell_type": "markdown",
   "metadata": {},
   "source": [
    "<center>$e = \\lim_{n \\to \\infty} \\left(1 + \\frac{1}{n}\\right)^{n}$<center>"
   ]
  },
  {
   "cell_type": "code",
   "execution_count": 14,
   "metadata": {},
   "outputs": [
    {
     "data": {
      "text/latex": [
       "$\\displaystyle e$"
      ],
      "text/plain": [
       "E"
      ]
     },
     "execution_count": 14,
     "metadata": {},
     "output_type": "execute_result"
    }
   ],
   "source": [
    "n,e = symbols('n e')\n",
    "limit(\"(1 + 1/n)**n\",n,\"oo\")#Baş harfi küçük olan \"limit\" metodu direkt sonucu döndürüyor."
   ]
  },
  {
   "cell_type": "markdown",
   "metadata": {},
   "source": [
    "\"Eq\" metodu, hem yaptığınız işlemlerin denkliklerini kıyaslama olanağı sağlıyor hem de aşağıdaki gibi eşitlikler oluşturmanıza imkan tanıyor."
   ]
  },
  {
   "cell_type": "code",
   "execution_count": 15,
   "metadata": {},
   "outputs": [
    {
     "data": {
      "text/latex": [
       "$\\displaystyle e = \\lim_{n \\to \\infty} \\left(1 + \\frac{1}{n}\\right)^{n}$"
      ],
      "text/plain": [
       "Eq(e, Limit((1 + 1/n)**n, n, oo, dir='-'))"
      ]
     },
     "execution_count": 15,
     "metadata": {},
     "output_type": "execute_result"
    }
   ],
   "source": [
    "Eq(e,Limit(\"(1 + 1/n)**n\",n,\"oo\"))#Baş harfi büyük yazılan Limit metodu ise işlemin sembolik ifadesini döndürüyor."
   ]
  },
  {
   "cell_type": "markdown",
   "metadata": {},
   "source": [
    "\"latex\" metodu sayesinde hesaplamalarınızın latex formunda çıktısını almak mümkün. Örneğin alttaki ifadeyi, elde ettiğim çıktı ile oluşturdum. Sizler de sadece yaptığınız hesaplamaları LaTeX formatındaki çıktılara dönüştürmek için bile bu kütüphaneye başvurabilirsiniz."
   ]
  },
  {
   "cell_type": "code",
   "execution_count": 16,
   "metadata": {},
   "outputs": [
    {
     "name": "stdout",
     "output_type": "stream",
     "text": [
      "\\lim_{n \\to \\infty} \\left(1 + \\frac{1}{n}\\right)^{n}\n"
     ]
    }
   ],
   "source": [
    "print(latex(Limit(\"(1 + 1/n)**n\",n,\"oo\")))"
   ]
  },
  {
   "cell_type": "markdown",
   "metadata": {},
   "source": [
    "<center> $\\lim_{n \\to \\infty} \\left(1 + \\frac{1}{n}\\right)^{n}$ <center>"
   ]
  },
  {
   "cell_type": "markdown",
   "metadata": {},
   "source": [
    "$\\sqrt{2}  = 1 + \\frac{1}{\\frac{1}{\\frac{1}{\\frac{1}{...}+2} + 2} + 2}$ , $\\sqrt{2}$ irrasyonel sayısı bu sürekli kesirle tanımlanıyor. Sonsuz sayıda çarpımdan oluşan bir seri şeklinde de ifade edilebiliyor. İşte bu nedenle kesme hatasının gözlemlendiği yerlerden biri de köklü sayılardır. Çeşitli metotlarla birkaç işlem yapıp kıyaslayalım."
   ]
  },
  {
   "cell_type": "markdown",
   "metadata": {},
   "source": [
    "* $\\sqrt{2}$   x   $\\sqrt{2}$"
   ]
  },
  {
   "cell_type": "code",
   "execution_count": 17,
   "metadata": {},
   "outputs": [
    {
     "data": {
      "text/plain": [
       "2.0000000000000004"
      ]
     },
     "execution_count": 17,
     "metadata": {},
     "output_type": "execute_result"
    }
   ],
   "source": [
    "import math\n",
    "math.sqrt(2) * math.sqrt(2)"
   ]
  },
  {
   "cell_type": "code",
   "execution_count": 18,
   "metadata": {},
   "outputs": [
    {
     "data": {
      "text/latex": [
       "$\\displaystyle 2$"
      ],
      "text/plain": [
       "2"
      ]
     },
     "execution_count": 18,
     "metadata": {},
     "output_type": "execute_result"
    }
   ],
   "source": [
    "sqrt(2) * sqrt(2) #sqrt SymPy içindeki metodumuz"
   ]
  },
  {
   "cell_type": "markdown",
   "metadata": {},
   "source": [
    "* $2 \\sqrt{2}$"
   ]
  },
  {
   "cell_type": "code",
   "execution_count": 19,
   "metadata": {},
   "outputs": [
    {
     "data": {
      "text/plain": [
       "2.8284271247461903"
      ]
     },
     "execution_count": 19,
     "metadata": {},
     "output_type": "execute_result"
    }
   ],
   "source": [
    "2 * math.sqrt(2)"
   ]
  },
  {
   "cell_type": "code",
   "execution_count": 20,
   "metadata": {},
   "outputs": [
    {
     "data": {
      "text/latex": [
       "$\\displaystyle 2 \\sqrt{2}$"
      ],
      "text/plain": [
       "2*sqrt(2)"
      ]
     },
     "execution_count": 20,
     "metadata": {},
     "output_type": "execute_result"
    }
   ],
   "source": [
    "2*sqrt(2)"
   ]
  },
  {
   "cell_type": "code",
   "execution_count": 21,
   "metadata": {},
   "outputs": [
    {
     "data": {
      "text/latex": [
       "$\\displaystyle 2.82842712474619009760337744842$"
      ],
      "text/plain": [
       "2.82842712474619009760337744842"
      ]
     },
     "execution_count": 21,
     "metadata": {},
     "output_type": "execute_result"
    }
   ],
   "source": [
    "2*sqrt(2).evalf(30) #evalf metodu çağrılana dek köklü hali korunuyor."
   ]
  },
  {
   "cell_type": "markdown",
   "metadata": {},
   "source": [
    "$\\pi$ sayısının hesaplanması yüz yıllardır üzerinde çalışılan bir konu. Hesaplamanın birçok yöntemi var; serilerle, limit alınarak veyahut geometrik yöntemlerle. Bu yöntemlerden Euler'in yakınsama iyileştirmesinin uygulanması sonucu elde edilmiş olan bir tanesini uygulayalım."
   ]
  },
  {
   "cell_type": "code",
   "execution_count": 22,
   "metadata": {},
   "outputs": [
    {
     "data": {
      "text/latex": [
       "$\\displaystyle \\pi = \\sum_{n=0}^{\\infty} \\frac{2^{n + 1} n!^{2}}{\\left(2 n + 1\\right)!}$"
      ],
      "text/plain": [
       "Eq(pi, Sum(2**(n + 1)*factorial(n)**2/factorial(2*n + 1), (n, 0, oo)))"
      ]
     },
     "execution_count": 22,
     "metadata": {},
     "output_type": "execute_result"
    }
   ],
   "source": [
    "pi_eq = Sum(((2**(n+1) * factorial(n)**2) / factorial(2*n+1)),(n,0,oo))\n",
    "Eq(pi,pi_eq)"
   ]
  },
  {
   "cell_type": "code",
   "execution_count": 23,
   "metadata": {},
   "outputs": [
    {
     "data": {
      "text/latex": [
       "$\\displaystyle 3.1415926535897932384626433832795029$"
      ],
      "text/plain": [
       "3.1415926535897932384626433832795029"
      ]
     },
     "execution_count": 23,
     "metadata": {},
     "output_type": "execute_result"
    }
   ],
   "source": [
    "pi.evalf(35) #SymPy içindeki pi"
   ]
  },
  {
   "cell_type": "code",
   "execution_count": 24,
   "metadata": {},
   "outputs": [
    {
     "data": {
      "text/latex": [
       "$\\displaystyle 3.1415926535897932384626433832795029$"
      ],
      "text/plain": [
       "3.1415926535897932384626433832795029"
      ]
     },
     "execution_count": 24,
     "metadata": {},
     "output_type": "execute_result"
    }
   ],
   "source": [
    "pi_eq.evalf(35) #formülle hesabını yaptığımız pi"
   ]
  },
  {
   "cell_type": "code",
   "execution_count": 25,
   "metadata": {},
   "outputs": [
    {
     "data": {
      "text/plain": [
       "3.141592653589793"
      ]
     },
     "execution_count": 25,
     "metadata": {},
     "output_type": "execute_result"
    }
   ],
   "source": [
    "math.pi"
   ]
  },
  {
   "cell_type": "markdown",
   "metadata": {},
   "source": [
    "## SymPy ile Başka Neler Yapabilirsiniz?"
   ]
  },
  {
   "cell_type": "code",
   "execution_count": 26,
   "metadata": {},
   "outputs": [
    {
     "data": {
      "text/plain": [
       "181"
      ]
     },
     "execution_count": 26,
     "metadata": {},
     "output_type": "execute_result"
    }
   ],
   "source": [
    "#İstediğiniz sıradaki asal sayıyı bulabilirsiniz, tabii bir yere kadar.\n",
    "prime(42)"
   ]
  },
  {
   "cell_type": "code",
   "execution_count": 27,
   "metadata": {},
   "outputs": [
    {
     "data": {
      "text/latex": [
       "$\\displaystyle \\int\\limits_{0}^{1} \\sqrt{\\frac{1}{x}}\\, dx$"
      ],
      "text/plain": [
       "Integral(sqrt(1/x), (x, 0, 1))"
      ]
     },
     "metadata": {},
     "output_type": "display_data"
    },
    {
     "data": {
      "text/latex": [
       "$\\displaystyle 2.0$"
      ],
      "text/plain": [
       "2.00000000000000"
      ]
     },
     "metadata": {},
     "output_type": "display_data"
    }
   ],
   "source": [
    "#İntegral alabilir ve sayısallaştırışmamış halini tutabilir, istediğinizde sayısallaştırabilirsiniz.\n",
    "x = symbols('x')\n",
    "integral = Integral(sqrt(1/x),(x,0,1))\n",
    "display(integral)\n",
    "display(integral.evalf())"
   ]
  },
  {
   "cell_type": "code",
   "execution_count": 28,
   "metadata": {},
   "outputs": [
    {
     "data": {
      "text/latex": [
       "$\\displaystyle \\int \\sin{\\left(x \\right)} \\cos{\\left(x \\right)}\\, dx = \\frac{\\sin^{2}{\\left(x \\right)}}{2}$"
      ],
      "text/plain": [
       "Eq(Integral(sin(x)*cos(x), x), sin(x)**2/2)"
      ]
     },
     "execution_count": 28,
     "metadata": {},
     "output_type": "execute_result"
    }
   ],
   "source": [
    "cos_sin = Integral(cos(x)*sin(x),x)\n",
    "Eq(cos_sin, cos_sin.doit())"
   ]
  },
  {
   "cell_type": "code",
   "execution_count": 29,
   "metadata": {},
   "outputs": [
    {
     "data": {
      "text/latex": [
       "$\\displaystyle \\frac{1}{2}$"
      ],
      "text/plain": [
       "1/2"
      ]
     },
     "execution_count": 29,
     "metadata": {},
     "output_type": "execute_result"
    }
   ],
   "source": [
    "cos_sin.doit().subs(x,pi/2) #Yukarıdaki integrali alınmış ifadedeki x'e pi/2 değerini atadık."
   ]
  },
  {
   "cell_type": "code",
   "execution_count": 30,
   "metadata": {},
   "outputs": [
    {
     "data": {
      "text/latex": [
       "$\\displaystyle x \\left(x + 2 y\\right)$"
      ],
      "text/plain": [
       "x*(x + 2*y)"
      ]
     },
     "execution_count": 30,
     "metadata": {},
     "output_type": "execute_result"
    }
   ],
   "source": [
    "#Çeşitli sadeleştirme işlemleri uygulayabilirsiniz.\n",
    "x,y = symbols('x y')\n",
    "expr = sympify(\"x + 2*y\")\n",
    "expr * x"
   ]
  },
  {
   "cell_type": "code",
   "execution_count": 31,
   "metadata": {},
   "outputs": [
    {
     "data": {
      "text/latex": [
       "$\\displaystyle x^{2} + 2 x y$"
      ],
      "text/plain": [
       "x**2 + 2*x*y"
      ]
     },
     "metadata": {},
     "output_type": "display_data"
    }
   ],
   "source": [
    "expr_x = expand(expr * x)\n",
    "display(expr_x) #Yukarıdaki ifadeyi expand metodu yardımıyla genişlettik."
   ]
  },
  {
   "cell_type": "code",
   "execution_count": 32,
   "metadata": {},
   "outputs": [
    {
     "data": {
      "text/latex": [
       "$\\displaystyle x^{2} + 2 x y$"
      ],
      "text/plain": [
       "x**2 + 2*x*y"
      ]
     },
     "execution_count": 32,
     "metadata": {},
     "output_type": "execute_result"
    }
   ],
   "source": [
    "#Aynı \"expand\" metodunu matematiksel nesnenin içinden çağırmak da mümküm.\n",
    "(expr*x).expand()"
   ]
  },
  {
   "cell_type": "code",
   "execution_count": 33,
   "metadata": {},
   "outputs": [
    {
     "data": {
      "text/latex": [
       "$\\displaystyle x \\left(x + 2 y\\right)$"
      ],
      "text/plain": [
       "x*(x + 2*y)"
      ]
     },
     "execution_count": 33,
     "metadata": {},
     "output_type": "execute_result"
    }
   ],
   "source": [
    "factor(expr_x) #Burada ise genişlettiğimiz ifadeyi geri topladık."
   ]
  },
  {
   "cell_type": "code",
   "execution_count": 34,
   "metadata": {},
   "outputs": [
    {
     "data": {
      "text/latex": [
       "$\\displaystyle \\frac{\\tan{\\left(x \\right)} + \\tan{\\left(y \\right)}}{- \\tan{\\left(x \\right)} \\tan{\\left(y \\right)} + 1}$"
      ],
      "text/plain": [
       "(tan(x) + tan(y))/(-tan(x)*tan(y) + 1)"
      ]
     },
     "execution_count": 34,
     "metadata": {},
     "output_type": "execute_result"
    }
   ],
   "source": [
    "expand_trig(tan(x+y)) #Benzer işlemleri trigonometrik ifadelere uygulamanız için de çeşitli metotlar mevcut."
   ]
  },
  {
   "cell_type": "code",
   "execution_count": 35,
   "metadata": {},
   "outputs": [
    {
     "data": {
      "text/latex": [
       "$\\displaystyle \\sin{\\left(x \\right)} \\sin{\\left(y \\right)} + \\cos{\\left(x \\right)} \\cos{\\left(y \\right)}$"
      ],
      "text/plain": [
       "sin(x)*sin(y) + cos(x)*cos(y)"
      ]
     },
     "execution_count": 35,
     "metadata": {},
     "output_type": "execute_result"
    }
   ],
   "source": [
    "expand_trig(cos(x-y))"
   ]
  },
  {
   "cell_type": "code",
   "execution_count": 36,
   "metadata": {},
   "outputs": [
    {
     "data": {
      "text/latex": [
       "$\\displaystyle 1$"
      ],
      "text/plain": [
       "1"
      ]
     },
     "execution_count": 36,
     "metadata": {},
     "output_type": "execute_result"
    }
   ],
   "source": [
    "simplify(sin(x)**2 + cos(x)**2) #sin^2(x) + cos^2(x) = 1"
   ]
  },
  {
   "cell_type": "code",
   "execution_count": 37,
   "metadata": {},
   "outputs": [
    {
     "data": {
      "text/latex": [
       "$\\displaystyle \\frac{x^{3} + x^{2} - x - 1}{x^{2} + 2 x + 1}$"
      ],
      "text/plain": [
       "(x**3 + x**2 - x - 1)/(x**2 + 2*x + 1)"
      ]
     },
     "metadata": {},
     "output_type": "display_data"
    },
    {
     "data": {
      "text/latex": [
       "$\\displaystyle x - 1$"
      ],
      "text/plain": [
       "x - 1"
      ]
     },
     "metadata": {},
     "output_type": "display_data"
    }
   ],
   "source": [
    "display((x**3 + x**2 - x - 1)/(x**2 + 2*x + 1)) #Alttaki ifade, üsttekinin sadeleştirişmiş halidir.\n",
    "display(simplify((x**3 + x**2 - x - 1)/(x**2 + 2*x + 1)))"
   ]
  },
  {
   "cell_type": "code",
   "execution_count": 38,
   "metadata": {},
   "outputs": [
    {
     "data": {
      "text/latex": [
       "$\\displaystyle \\left\\{-1, 2\\right\\}$"
      ],
      "text/plain": [
       "FiniteSet(-1, 2)"
      ]
     },
     "execution_count": 38,
     "metadata": {},
     "output_type": "execute_result"
    }
   ],
   "source": [
    "solveset(x**2 - x - 2) #Denklem çözdürebilirisiniz. x^2 - x -2 = 0"
   ]
  },
  {
   "cell_type": "code",
   "execution_count": 39,
   "metadata": {},
   "outputs": [
    {
     "data": {
      "text/latex": [
       "$\\displaystyle \\left\\{2 n \\pi + \\frac{\\pi}{2}\\; |\\; n \\in \\mathbb{Z}\\right\\}$"
      ],
      "text/plain": [
       "ImageSet(Lambda(_n, 2*_n*pi + pi/2), Integers)"
      ]
     },
     "execution_count": 39,
     "metadata": {},
     "output_type": "execute_result"
    }
   ],
   "source": [
    "solveset(sin(x) - 1, x, domain=S.Reals) #Denklem, bulunacak değişken ve aranacak domain."
   ]
  },
  {
   "cell_type": "code",
   "execution_count": 40,
   "metadata": {},
   "outputs": [
    {
     "data": {
      "text/latex": [
       "$\\displaystyle \\left\\{-1, 1\\right\\}$"
      ],
      "text/plain": [
       "FiniteSet(-1, 1)"
      ]
     },
     "execution_count": 40,
     "metadata": {},
     "output_type": "execute_result"
    }
   ],
   "source": [
    "solveset(Eq(x**2, 1), x)"
   ]
  },
  {
   "cell_type": "markdown",
   "metadata": {},
   "source": [
    "SymPy ile yapabilecekleriniz bunlarla sınırlı değil. Matematiğin daha pek çok spesifik alanıyla ilgili onlarca yardımcı metot bulabilirsiniz. Ayrıca SymPy kullanılarak geliştirilmiş birçok matematiksel hesaplama kütüphanesi de mevcut. Kimya için __ChemPy__, Genel Görelelik için __EinsteinPy__, lineer devre analizi için __LcaPy__, optimizasyon problemleri için __OptLang__ kütüphaneleri SymPy ile geliştirilen kütüphanelerden sadece birkaçı. Bizim bu yazıdaki amacımız, sembolik matematiğe dikkat çekip benzer ihtiyaçlarınız için aklınızda böyle bir araç olduğu bilgisinin yer etmesini sağlamaktı. Umarım keyif almışsınızdır."
   ]
  },
  {
   "cell_type": "markdown",
   "metadata": {},
   "source": [
    "### Kaynaklar:"
   ]
  },
  {
   "cell_type": "markdown",
   "metadata": {},
   "source": [
    "* SymPy -> https://docs.sympy.org/latest/index.html\n",
    "* $\\sqrt{2}$ -> https://www.cut-the-knot.org/proofs/sq_root.shtml\n",
    "* $e$ -> https://mathworld.wolfram.com/e.html\n",
    "* $\\pi$ -> https://mathworld.wolfram.com/PiFormulas.html\n",
    "* Nümerik Diferansiyel -> https://en.wikipedia.org/wiki/Numerical_differentiation"
   ]
  },
  {
   "cell_type": "markdown",
   "metadata": {},
   "source": [
    "* Bu da bir Math Rock parçası, okudukdan sonra dinlersiniz:  https://www.youtube.com/watch?v=bikIdnMf2gs \n",
    "\n",
    "    * https://en.wikipedia.org/wiki/Math_rock"
   ]
  }
 ],
 "metadata": {
  "kernelspec": {
   "display_name": "Python 3",
   "language": "python",
   "name": "python3"
  },
  "language_info": {
   "codemirror_mode": {
    "name": "ipython",
    "version": 3
   },
   "file_extension": ".py",
   "mimetype": "text/x-python",
   "name": "python",
   "nbconvert_exporter": "python",
   "pygments_lexer": "ipython3",
   "version": "3.7.4"
  }
 },
 "nbformat": 4,
 "nbformat_minor": 4
}
